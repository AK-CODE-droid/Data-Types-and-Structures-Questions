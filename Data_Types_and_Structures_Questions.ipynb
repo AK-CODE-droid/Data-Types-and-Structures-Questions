{
  "nbformat": 4,
  "nbformat_minor": 0,
  "metadata": {
    "colab": {
      "provenance": []
    },
    "kernelspec": {
      "name": "python3",
      "display_name": "Python 3"
    },
    "language_info": {
      "name": "python"
    }
  },
  "cells": [
    {
      "cell_type": "markdown",
      "source": [
        "#Data Types and Structures Questions"
      ],
      "metadata": {
        "id": "li1cJgfItPm7"
      }
    },
    {
      "cell_type": "markdown",
      "metadata": {
        "id": "cce3d85a"
      },
      "source": [
        "1. **What are data structures, and why are they important?**\n",
        "   - Data structures are ways of organizing and storing data in a computer so that it can be accessed and modified efficiently.\n",
        "They are important because they allow us to manage and manipulate data in a structured way, which is crucial for\n",
        "developing efficient algorithms and programs. Different data structures are suited for different purposes, and\n",
        "choosing the right data structure can significantly impact the performance of an application. Examples of common\n",
        "data structures include arrays, linked lists, stacks, queues, trees, and graphs\n",
        "2. **Explain the difference between mutable and immutable data types with examples**\n",
        "     - Mutable Data Types-Their contents (values) can be changed after creation without changing the object’s identity (memory location).\n",
        "Examples: list, dict, set, bytearray.\n",
        "Immutable Data Types- Their contents cannot be changed after creation. If you “modify” them, a new object is created with a different memory location.\n",
        "Examples: int, float, str, tuple, frozenset.\n",
        "\n",
        "3. **What are the main differences between lists and tuples in Python3**\n",
        "- Lists are mutable, meaning their elements can be changed after creation. They are defined using square brackets [].\n",
        "- Tuples are immutable, meaning their elements cannot be changed after creation. They are defined using parentheses ().\n",
        "- Lists are generally used for homogeneous data (elements of the same type), while tuples are often used for heterogeneous data (elements of different types).\n",
        "- Lists have more built-in methods (like append(), insert(), remove()) than tuples.\n",
        "- Tuples are generally faster than lists because they are immutable.\n",
        "\n",
        "4. **Describe how dictionaries store data.**\n",
        "- Dictionaries in Python store data as key-value pairs. Each key is unique and maps to a corresponding value. Dictionaries are unordered collections (in Python versions before 3.7, ordered in 3.7+). They are implemented using hash tables, which allows for efficient lookup, insertion, and deletion of elements based on their keys.\n",
        "\n",
        "5. **Why might you use a set instead of a list in Python3?**\n",
        "- You might use a set instead of a list when you need a collection of unique elements and the order of elements does not matter. Sets automatically handle the removal of duplicate elements, and they provide efficient operations for checking membership, performing set operations (like union, intersection, difference), and removing duplicates from an existing sequence.\n",
        "\n",
        "6. **What is a string in Python, and how is it different from a list?**\n",
        "- A string in Python is a sequence of characters. It is an immutable data type, meaning its contents cannot be changed after creation.\n",
        "- A list in Python is an ordered collection of items, which can be of different data types. Lists are mutable, meaning their elements can be changed after creation.\n",
        "- The main differences are mutability (strings are immutable, lists are mutable) and the type of elements they hold (strings hold characters, lists can hold any type of object). Strings are typically used to represent text, while lists are used for general-purpose collections of items.\n",
        "\n",
        "7. **How do tuples ensure data integrity in Python3?**\n",
        "- Tuples ensure data integrity because they are immutable. Once a tuple is created, its elements cannot be changed, added, or removed. This prevents accidental modification of the data, making tuples suitable for storing data that should remain constant throughout the program's execution. This immutability guarantees that the data within a tuple is preserved in its original state.\n",
        "\n",
        "8. **What is a hash table, and how does it relate to dictionaries in Python3?**\n",
        "- A hash table is a data structure that implements an associative array, mapping keys to values. It uses a hash function to compute an index into an array of buckets or slots, from which the desired value can be found. In Python, dictionaries are implemented using hash tables. The keys of a dictionary are hashed to find the location where the corresponding value is stored, allowing for efficient average-case time complexity for lookup, insertion, and deletion operations.\n",
        "\n",
        "9. **Can lists contain different data types in Python3?**\n",
        "- Yes, lists in Python can contain elements of different data types. This is one of the key features of Python lists, making them very flexible for storing collections of heterogeneous data.\n",
        "\n",
        "10. **Explain why strings are immutable in Python.**\n",
        "- Strings are immutable in Python because this design choice allows for certain optimizations and ensures that string objects can be safely used as keys in dictionaries or elements in sets (which require their elements to be hashable, and immutability is a prerequisite for hashability). If strings were mutable, changing a string that is being used as a dictionary key would change its hash value, making it impossible to find the corresponding value in the dictionary. Immutability guarantees that the hash value of a string remains constant throughout its lifetime.\n",
        "\n",
        "11. **What advantages do dictionaries offer over lists for certain tasks?**\n",
        "- Dictionaries offer significant advantages over lists when you need to quickly look up, add, or remove elements based on a key. Unlike lists, where searching for an element requires iterating through the list (O(n) time complexity in the worst case), dictionaries provide average-case O(1) time complexity for these operations due to their underlying hash table implementation. This makes dictionaries ideal for tasks such as counting the frequency of items, storing configuration settings, or representing relationships between data where a key-value lookup is required.\n",
        "\n",
        "12. **Describe a scenario where using a tuple would be preferable over a list.**\n",
        "- A tuple would be preferable over a list when you have a collection of related items that should not be changed. For example, representing geographical coordinates (latitude, longitude), RGB color codes (red, green, blue values), or a record with a fixed number of fields (name, age, city). Tuples are also often used to return multiple values from a function.\n",
        "\n",
        "13. **How do sets handle duplicate values in Python3?**\n",
        "- Sets automatically handle duplicate values by only storing one instance of each unique element. When you add elements to a set, any duplicates are silently ignored. This makes sets useful for quickly removing duplicates from a sequence or checking for the presence of unique elements.\n",
        "\n",
        "14. **How does the “in” keyword work differently for lists and dictionaries?**\n",
        "- For lists, the in keyword checks if an element exists within the list by iterating through its elements. This has an average time complexity of O(n), where n is the number of elements in the list.\n",
        "- For dictionaries, the in keyword checks if a *key* exists within the dictionary. This operation is very efficient, with an average time complexity of O(1), due to the dictionary's underlying hash table implementation.\n",
        "\n",
        "15. **Can you modify the elements of a tuple? Explain why or why not?**\n",
        "- No, I cannot modify the elements of a tuple after it has been created. This is because tuples are immutable data types. Once a tuple is defined, its contents are fixed, and any attempt to change, add, or remove elements will result in a TypeError. This immutability is a key characteristic of tuples and helps ensure data integrity.\n",
        "\n",
        "16. **What is a nested dictionary, and give an example of its use case?**\n",
        "- A nested dictionary is a dictionary where the values are themselves dictionaries. This allows you to represent hierarchical or structured data.\n",
        "- **Example Use Case:** Representing information about multiple users, where each user has a dictionary containing their details (like age, city, and occupation).\n",
        "\n",
        "17. **Describe the time complexity of accessing elements in a dictionary.**\n",
        "- Accessing elements in a dictionary using their key has an average-case time complexity of O(1). This means that the time it takes to access an element does not significantly increase with the size of the dictionary. In the worst-case scenario (due to hash collisions), the time complexity can degrade to O(n), but this is rare with good hash functions.\n",
        "\n",
        "18. **In what situations are lists preferred over dictionaries?**\n",
        "- Lists are preferred over dictionaries when:\n",
        "  - You need an ordered collection of items.\n",
        "  - You need to access elements by their position or index.\n",
        "  - You have a collection of items where duplicates are allowed and their order matters.\n",
        "  - You need to perform operations like slicing or extending the collection.\n",
        "\n",
        "19. **Why are dictionaries considered unordered, and how does that affect data retrieval?**\n",
        "- In Python versions prior to 3.7, dictionaries were considered unordered because the order in which items were stored and retrieved was not guaranteed. This meant you couldn't rely on the position of elements when accessing them.\n",
        "- From Python 3.7 onwards, dictionaries maintain insertion order. However, they are still not ordered by key. Data retrieval is still done based on the key, not the position, which is the fundamental way dictionaries work. The insertion order guarantee in newer versions is a welcome feature but doesn't change the primary method of access.\n",
        "\n",
        "20. **Explain the difference between a list and a dictionary in terms of data retrieval.**\n",
        "- **Lists:** Data is retrieved based on its position or index within the list. You access elements using their integer index (e.g., my_list[0]). This is suitable when the order of elements is important and you know the position of the data you want to retrieve.\n",
        "- **Dictionaries:** Data is retrieved based on its associated key. You access values using their key (e.g., my_dict['key']). This is suitable when you need to quickly look up values based on a unique identifier or label (the key)."
      ]
    },
    {
      "cell_type": "markdown",
      "source": [],
      "metadata": {
        "id": "ndeOfAK4t6GE"
      }
    },
    {
      "cell_type": "markdown",
      "source": [
        "#Practical Questions"
      ],
      "metadata": {
        "id": "HS5vrTkkt2-o"
      }
    },
    {
      "cell_type": "code",
      "source": [
        "# 1 Write a code to create a string with your name and print it\n",
        "my_name = \"Akash Yadav\"  # Replace \"Your Name\" with your actual name\n",
        "print(my_name)"
      ],
      "metadata": {
        "colab": {
          "base_uri": "https://localhost:8080/"
        },
        "id": "B8BuAwqptuAa",
        "outputId": "6d0762d7-c89d-4866-a934-56e1e7ba2e5b"
      },
      "execution_count": 6,
      "outputs": [
        {
          "output_type": "stream",
          "name": "stdout",
          "text": [
            "Akash Yadav\n"
          ]
        }
      ]
    },
    {
      "cell_type": "code",
      "source": [
        "# 2 Write a code to find the length of the string \"Hello World\"\n",
        "my_string = \"Hello World\"\n",
        "string_length = len(my_string)\n",
        "print(string_length)"
      ],
      "metadata": {
        "colab": {
          "base_uri": "https://localhost:8080/"
        },
        "id": "R7DJb6Wnt15o",
        "outputId": "60cd3a9c-6f42-420d-dd3b-57f578ec4848"
      },
      "execution_count": 2,
      "outputs": [
        {
          "output_type": "stream",
          "name": "stdout",
          "text": [
            "11\n"
          ]
        }
      ]
    },
    {
      "cell_type": "code",
      "metadata": {
        "colab": {
          "base_uri": "https://localhost:8080/"
        },
        "id": "1c5abbfb",
        "outputId": "4b16737c-625e-44d0-d7e1-9efe32c6ebb9"
      },
      "source": [
        "# 3 Write a code to slice the first 3 characters from the string \"Python Programming\"\n",
        "my_string = \"Python Programming\"\n",
        "sliced_string = my_string[:3]\n",
        "print(sliced_string)"
      ],
      "execution_count": 3,
      "outputs": [
        {
          "output_type": "stream",
          "name": "stdout",
          "text": [
            "Pyt\n"
          ]
        }
      ]
    },
    {
      "cell_type": "code",
      "metadata": {
        "colab": {
          "base_uri": "https://localhost:8080/"
        },
        "id": "e703ff2c",
        "outputId": "d6d83e1b-8021-48a9-8b01-2ea901c7a8da"
      },
      "source": [
        "# 4 Write a code to convert the string \"hello\" to uppercase\n",
        "my_string = \"hello\"\n",
        "uppercase_string = my_string.upper()\n",
        "print(uppercase_string)"
      ],
      "execution_count": 4,
      "outputs": [
        {
          "output_type": "stream",
          "name": "stdout",
          "text": [
            "HELLO\n"
          ]
        }
      ]
    },
    {
      "cell_type": "code",
      "metadata": {
        "colab": {
          "base_uri": "https://localhost:8080/"
        },
        "id": "98f3f0f0",
        "outputId": "23ea5616-e3d0-44c5-cab7-8fdb19c60616"
      },
      "source": [
        "# 5 Write a code to replace the word \"apple\" with \"orange\" in the string \"I like apple\"\n",
        "my_string = \"I like apple\"\n",
        "new_string = my_string.replace(\"apple\", \"orange\")\n",
        "print(new_string)"
      ],
      "execution_count": 5,
      "outputs": [
        {
          "output_type": "stream",
          "name": "stdout",
          "text": [
            "I like orange\n"
          ]
        }
      ]
    },
    {
      "cell_type": "code",
      "metadata": {
        "colab": {
          "base_uri": "https://localhost:8080/"
        },
        "id": "621f03d3",
        "outputId": "fff89017-2fa0-42fd-f78c-a50c8b1eb885"
      },
      "source": [
        "# 6 Write a code to create a list with numbers 1 to 5 and print it\n",
        "my_list = [1, 2, 3, 4, 5]\n",
        "print(my_list)"
      ],
      "execution_count": 1,
      "outputs": [
        {
          "output_type": "stream",
          "name": "stdout",
          "text": [
            "[1, 2, 3, 4, 5]\n"
          ]
        }
      ]
    },
    {
      "cell_type": "code",
      "metadata": {
        "colab": {
          "base_uri": "https://localhost:8080/"
        },
        "id": "b812a41b",
        "outputId": "e543842c-f5dc-4bff-af6a-2ea1737ca7ca"
      },
      "source": [
        "# 7 Write a code to append the number 10 to the list [1, 2, 3, 4]\n",
        "my_list = [1, 2, 3, 4]\n",
        "my_list.append(10)\n",
        "print(my_list)"
      ],
      "execution_count": 2,
      "outputs": [
        {
          "output_type": "stream",
          "name": "stdout",
          "text": [
            "[1, 2, 3, 4, 10]\n"
          ]
        }
      ]
    },
    {
      "cell_type": "code",
      "metadata": {
        "colab": {
          "base_uri": "https://localhost:8080/"
        },
        "id": "154fccd5",
        "outputId": "f86d5593-def9-47a5-e64e-3f46249ee1b8"
      },
      "source": [
        "# 8 Write a code to remove the number 3 from the list [1, 2, 3, 4, 5]\n",
        "my_list = [1, 2, 3, 4, 5]\n",
        "my_list.remove(3)\n",
        "print(my_list)"
      ],
      "execution_count": 3,
      "outputs": [
        {
          "output_type": "stream",
          "name": "stdout",
          "text": [
            "[1, 2, 4, 5]\n"
          ]
        }
      ]
    },
    {
      "cell_type": "code",
      "metadata": {
        "colab": {
          "base_uri": "https://localhost:8080/"
        },
        "id": "82a7f144",
        "outputId": "3d7dcdbb-3730-4739-afb5-30ab5b26a70c"
      },
      "source": [
        "# 9 Write a code to access the second element in the list ['a', 'b', 'c', 'd']\n",
        "my_list = ['a', 'b', 'c', 'd']\n",
        "second_element = my_list[1]\n",
        "print(second_element)"
      ],
      "execution_count": 4,
      "outputs": [
        {
          "output_type": "stream",
          "name": "stdout",
          "text": [
            "b\n"
          ]
        }
      ]
    },
    {
      "cell_type": "code",
      "metadata": {
        "colab": {
          "base_uri": "https://localhost:8080/"
        },
        "id": "86217b60",
        "outputId": "b0eaa6b6-0897-473a-c064-7cda701328b6"
      },
      "source": [
        "# 10 Write a code to reverse the list [10, 20, 30, 40, 50].\n",
        "my_list = [10, 20, 30, 40, 50]\n",
        "my_list.reverse()\n",
        "print(my_list)"
      ],
      "execution_count": 5,
      "outputs": [
        {
          "output_type": "stream",
          "name": "stdout",
          "text": [
            "[50, 40, 30, 20, 10]\n"
          ]
        }
      ]
    },
    {
      "cell_type": "code",
      "metadata": {
        "colab": {
          "base_uri": "https://localhost:8080/"
        },
        "id": "813dab80",
        "outputId": "0931b68a-9c20-47ed-b727-2607c87cbc2a"
      },
      "source": [
        "# 11. Write a code to create a tuple with the elements 100, 200, 300 and print it.\n",
        "my_tuple = (100, 200, 300)\n",
        "print(my_tuple)"
      ],
      "execution_count": 6,
      "outputs": [
        {
          "output_type": "stream",
          "name": "stdout",
          "text": [
            "(100, 200, 300)\n"
          ]
        }
      ]
    },
    {
      "cell_type": "code",
      "metadata": {
        "colab": {
          "base_uri": "https://localhost:8080/"
        },
        "id": "fca39906",
        "outputId": "cf7be911-493e-4ab3-f756-e9610a8532e4"
      },
      "source": [
        "# 12. Write a code to access the second-to-last element of the tuple ('red', 'green', 'blue', 'yellow').\n",
        "my_tuple = ('red', 'green', 'blue', 'yellow')\n",
        "second_to_last = my_tuple[-2]\n",
        "print(second_to_last)"
      ],
      "execution_count": 7,
      "outputs": [
        {
          "output_type": "stream",
          "name": "stdout",
          "text": [
            "blue\n"
          ]
        }
      ]
    },
    {
      "cell_type": "code",
      "metadata": {
        "colab": {
          "base_uri": "https://localhost:8080/"
        },
        "id": "17a52595",
        "outputId": "09b95ef1-097e-421b-8837-fc578e69bb90"
      },
      "source": [
        "# 13. Write a code to find the minimum number in the tuple (10, 20, 5, 15).\n",
        "my_tuple = (10, 20, 5, 15)\n",
        "minimum_number = min(my_tuple)\n",
        "print(minimum_number)"
      ],
      "execution_count": 8,
      "outputs": [
        {
          "output_type": "stream",
          "name": "stdout",
          "text": [
            "5\n"
          ]
        }
      ]
    },
    {
      "cell_type": "code",
      "metadata": {
        "colab": {
          "base_uri": "https://localhost:8080/"
        },
        "id": "c585638f",
        "outputId": "c94844fe-c1c1-42b1-9ef5-dfb14c0d0921"
      },
      "source": [
        "# 14. Write a code to find the index of the element \"cat\" in the tuple ('dog', 'cat', 'rabbit').\n",
        "my_tuple = ('dog', 'cat', 'rabbit')\n",
        "index_of_cat = my_tuple.index('cat')\n",
        "print(index_of_cat)"
      ],
      "execution_count": 9,
      "outputs": [
        {
          "output_type": "stream",
          "name": "stdout",
          "text": [
            "1\n"
          ]
        }
      ]
    },
    {
      "cell_type": "code",
      "metadata": {
        "colab": {
          "base_uri": "https://localhost:8080/"
        },
        "id": "2b14041b",
        "outputId": "7959d1f4-bba9-4762-a225-f7e0e27813c5"
      },
      "source": [
        "# 15. Write a code to create a tuple containing three different fruits and check if \"kiwi\" is in it.\n",
        "fruit_tuple = ('apple', 'banana', 'orange')\n",
        "is_kiwi_in_tuple = \"kiwi\" in fruit_tuple\n",
        "print(is_kiwi_in_tuple)"
      ],
      "execution_count": 10,
      "outputs": [
        {
          "output_type": "stream",
          "name": "stdout",
          "text": [
            "False\n"
          ]
        }
      ]
    },
    {
      "cell_type": "code",
      "metadata": {
        "colab": {
          "base_uri": "https://localhost:8080/"
        },
        "id": "6de263d6",
        "outputId": "921034e5-2661-497e-b317-695ce03ebc76"
      },
      "source": [
        "# 16. Write a code to create a set with the elements 'a', 'b', 'c' and print it.\n",
        "my_set = {'a', 'b', 'c'}\n",
        "print(my_set)"
      ],
      "execution_count": 11,
      "outputs": [
        {
          "output_type": "stream",
          "name": "stdout",
          "text": [
            "{'b', 'c', 'a'}\n"
          ]
        }
      ]
    },
    {
      "cell_type": "code",
      "metadata": {
        "colab": {
          "base_uri": "https://localhost:8080/"
        },
        "id": "ba9d4ab4",
        "outputId": "be20f1d7-d37d-4586-b3f1-efbf5f832af2"
      },
      "source": [
        "# 17. Write a code to clear all elements from the set {1, 2, 3, 4, 5}.\n",
        "my_set = {1, 2, 3, 4, 5}\n",
        "my_set.clear()\n",
        "print(my_set)"
      ],
      "execution_count": 12,
      "outputs": [
        {
          "output_type": "stream",
          "name": "stdout",
          "text": [
            "set()\n"
          ]
        }
      ]
    },
    {
      "cell_type": "code",
      "metadata": {
        "colab": {
          "base_uri": "https://localhost:8080/"
        },
        "id": "63b87290",
        "outputId": "9820e0d8-decd-4ae7-ba32-b41eb4d62554"
      },
      "source": [
        "# 18. Write a code to remove the element 4 from the set {1, 2, 3, 4}.\n",
        "my_set = {1, 2, 3, 4}\n",
        "my_set.remove(4)\n",
        "print(my_set)"
      ],
      "execution_count": 14,
      "outputs": [
        {
          "output_type": "stream",
          "name": "stdout",
          "text": [
            "{1, 2, 3}\n"
          ]
        }
      ]
    },
    {
      "cell_type": "code",
      "metadata": {
        "colab": {
          "base_uri": "https://localhost:8080/"
        },
        "id": "077160cd",
        "outputId": "51bf8f0f-95f5-4a9e-ed85-96c3a57b23d4"
      },
      "source": [
        "# 19. Write a code to find the union of two sets {1, 2, 3} and {3, 4, 5}.\n",
        "set1 = {1, 2, 3}\n",
        "set2 = {3, 4, 5}\n",
        "union_set = set1.union(set2)\n",
        "print(union_set)"
      ],
      "execution_count": 13,
      "outputs": [
        {
          "output_type": "stream",
          "name": "stdout",
          "text": [
            "{1, 2, 3, 4, 5}\n"
          ]
        }
      ]
    },
    {
      "cell_type": "code",
      "metadata": {
        "colab": {
          "base_uri": "https://localhost:8080/"
        },
        "id": "de2ad242",
        "outputId": "3c61fbc2-4786-4224-d555-540fa5197eb4"
      },
      "source": [
        "# 20. Write a code to find the intersection of two sets {1, 2, 3} and {2, 3, 4}.\n",
        "set1 = {1, 2, 3}\n",
        "set2 = {2, 3, 4}\n",
        "intersection_set = set1.intersection(set2)\n",
        "print(intersection_set)"
      ],
      "execution_count": 15,
      "outputs": [
        {
          "output_type": "stream",
          "name": "stdout",
          "text": [
            "{2, 3}\n"
          ]
        }
      ]
    },
    {
      "cell_type": "code",
      "metadata": {
        "id": "12883263"
      },
      "source": [
        "# 21. Write a code to create a dictionary with the keys \"name\", \"age\", and \"city\", and print it.\n",
        "my_dict = {\"name\": \"John\", \"age\": 30, \"city\": \"New York\"}\n",
        "print(my_dict)"
      ],
      "execution_count": null,
      "outputs": []
    },
    {
      "cell_type": "code",
      "metadata": {
        "id": "44fc7596"
      },
      "source": [
        "# 22. Write a code to add a new key-value pair \"country\": \"USA\" to the dictionary {'name': 'John', 'age': 25}.\n",
        "my_dict = {'name': 'John', 'age': 25}\n",
        "my_dict[\"country\"] = \"USA\"\n",
        "print(my_dict)"
      ],
      "execution_count": null,
      "outputs": []
    },
    {
      "cell_type": "code",
      "metadata": {
        "id": "5d13a5ef"
      },
      "source": [
        "# 23. Write a code to access the value associated with the key \"name\" in the dictionary {'name': 'Alice', 'age': 30}.\n",
        "my_dict = {'name': 'Alice', 'age': 30}\n",
        "name_value = my_dict[\"name\"]\n",
        "print(name_value)"
      ],
      "execution_count": null,
      "outputs": []
    },
    {
      "cell_type": "code",
      "metadata": {
        "id": "3d17a2bb"
      },
      "source": [
        "# 24. Write a code to remove the key \"age\" from the dictionary {'name': 'Bob', 'age': 22, 'city': 'New York'}.\n",
        "my_dict = {'name': 'Bob', 'age': 22, 'city': 'New York'}\n",
        "del my_dict[\"age\"]\n",
        "print(my_dict)"
      ],
      "execution_count": null,
      "outputs": []
    },
    {
      "cell_type": "code",
      "metadata": {
        "id": "068389a1"
      },
      "source": [
        "# 25. Write a code to check if the key \"city\" exists in the dictionary {'name': 'Alice', 'city': 'Paris'}.\n",
        "my_dict = {'name': 'Alice', 'city': 'Paris'}\n",
        "key_exists = \"city\" in my_dict\n",
        "print(key_exists)"
      ],
      "execution_count": null,
      "outputs": []
    },
    {
      "cell_type": "code",
      "metadata": {
        "id": "52a9fd8e"
      },
      "source": [
        "# 26. Write a code to create a list, a tuple, and a dictionary, and print them all.\n",
        "my_list = [1, 2, 3]\n",
        "my_tuple = (4, 5, 6)\n",
        "my_dict = {\"a\": 7, \"b\": 8}\n",
        "print(my_list)\n",
        "print(my_tuple)\n",
        "print(my_dict)"
      ],
      "execution_count": null,
      "outputs": []
    },
    {
      "cell_type": "code",
      "metadata": {
        "id": "99c5bf19"
      },
      "source": [
        "# 27. Write a code to create a list of 5 random numbers between 1 and 100, sort it in ascending order, and print the result.\n",
        "import random\n",
        "\n",
        "random_numbers = []\n",
        "for _ in range(5):\n",
        "    random_numbers.append(random.randint(1, 100))\n",
        "\n",
        "random_numbers.sort()\n",
        "print(random_numbers)"
      ],
      "execution_count": null,
      "outputs": []
    },
    {
      "cell_type": "code",
      "metadata": {
        "id": "038043b5"
      },
      "source": [
        "# 28. Write a code to create a list with strings and print the element at the third index.\n",
        "my_list = [\"apple\", \"banana\", \"cherry\", \"date\"]\n",
        "third_element = my_list[2]\n",
        "print(third_element)"
      ],
      "execution_count": null,
      "outputs": []
    },
    {
      "cell_type": "code",
      "metadata": {
        "colab": {
          "base_uri": "https://localhost:8080/"
        },
        "id": "f7af3e86",
        "outputId": "bcc8b9d2-25c5-4d43-c688-26dac412dc81"
      },
      "source": [
        "# 29. Write a code to combine two dictionaries into one and print the result.\n",
        "dict1 = {\"a\": 1, \"b\": 2}\n",
        "dict2 = {\"c\": 3, \"d\": 4}\n",
        "combined_dict = {**dict1, **dict2}\n",
        "print(combined_dict)"
      ],
      "execution_count": 17,
      "outputs": [
        {
          "output_type": "stream",
          "name": "stdout",
          "text": [
            "{'a': 1, 'b': 2, 'c': 3, 'd': 4}\n"
          ]
        }
      ]
    },
    {
      "cell_type": "code",
      "metadata": {
        "colab": {
          "base_uri": "https://localhost:8080/"
        },
        "id": "433cdd65",
        "outputId": "6c740c45-763d-4df5-c3e5-745dd0cc6e34"
      },
      "source": [
        "# 30. Write a code to convert a list of strings into a set\n",
        "my_list = [\"apple\", \"banana\", \"cherry\", \"apple\"]\n",
        "my_set = set(my_list)\n",
        "print(my_set)"
      ],
      "execution_count": 16,
      "outputs": [
        {
          "output_type": "stream",
          "name": "stdout",
          "text": [
            "{'cherry', 'apple', 'banana'}\n"
          ]
        }
      ]
    }
  ]
}